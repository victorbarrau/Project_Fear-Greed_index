{
 "cells": [
  {
   "cell_type": "code",
   "execution_count": 9,
   "metadata": {},
   "outputs": [],
   "source": [
    "import pandas as pd"
   ]
  },
  {
   "cell_type": "code",
   "execution_count": 10,
   "metadata": {},
   "outputs": [],
   "source": [
    "df_histo=pd.read_csv(\"BTC-Hourly.csv\")\n",
    "df_day=pd.read_csv(\"BTCUSDT-1h-2023-02-13.csv\") #csv des dernières 24h"
   ]
  },
  {
   "cell_type": "code",
   "execution_count": 50,
   "metadata": {},
   "outputs": [],
   "source": [
    "df_histo=pd.read_csv(\"BTC-Hourly.csv\") #l'historique finhub de l'ouverture\n",
    "df=df_histo[[\"open\"]]\n",
    "df=df[::-1] #prendre le bon sens \n",
    "list=[]\n",
    "#volatilité toutes les 24h\n",
    "for i in range(1386):\n",
    "    vol=0\n",
    "    for j in range(24):\n",
    "        if i*24+j>=33259:\n",
    "            break\n",
    "        vol+=df[\"open\"][i*24+j]\n",
    "        vol=vol/24\n",
    "    list.append((df[\"open\"][i*24]-vol)**2)\n",
    "\n",
    "hist_moy=0\n",
    "for i in range(len(list)):\n",
    "    hist_moy+=list[i]\n",
    "volatilité=(hist_moy/len(list))**(1/2)#environ = 26190\n"
   ]
  },
  {
   "cell_type": "code",
   "execution_count": 47,
   "metadata": {},
   "outputs": [],
   "source": [
    "def ScoreVol(volatilité):\n",
    "    df_day[\"volatilité_open\"]=((df_day[\"open\"]-df_day[\"open\"].mean())**2)\n",
    "    volat=(df_day[\"volatilité_open\"].mean())*(1/2)\n",
    "    score=1-abs((volatilité-volat)/volatilité)\n",
    "    return score"
   ]
  },
  {
   "cell_type": "code",
   "execution_count": 51,
   "metadata": {},
   "outputs": [
    {
     "name": "stdout",
     "output_type": "stream",
     "text": [
      "0.23701910299403173\n"
     ]
    }
   ],
   "source": [
    "print(ScoreVol(volatilité))"
   ]
  }
 ],
 "metadata": {
  "kernelspec": {
   "display_name": "base",
   "language": "python",
   "name": "python3"
  },
  "language_info": {
   "codemirror_mode": {
    "name": "ipython",
    "version": 3
   },
   "file_extension": ".py",
   "mimetype": "text/x-python",
   "name": "python",
   "nbconvert_exporter": "python",
   "pygments_lexer": "ipython3",
   "version": "3.9.7"
  },
  "orig_nbformat": 4,
  "vscode": {
   "interpreter": {
    "hash": "66168a667a11ac16aca0d0d9742c8419f93457ff66115bf85239ea370d417636"
   }
  }
 },
 "nbformat": 4,
 "nbformat_minor": 2
}
