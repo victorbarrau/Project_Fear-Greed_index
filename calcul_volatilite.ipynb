{
 "cells": [
  {
   "cell_type": "code",
   "execution_count": 3,
   "metadata": {},
   "outputs": [],
   "source": [
    "import pandas as pd"
   ]
  },
  {
   "cell_type": "code",
   "execution_count": 4,
   "metadata": {},
   "outputs": [],
   "source": [
    "volatilité=1358531 #calcul de la volatilité du prix d'ouverture du btc * la volatilité des volumes sur 5 ans ramené à 24h\n",
    "df_day=pd.read_csv(\"BTCUSDT-1h-2023-02-13.csv\") #csv des dernières 24h"
   ]
  },
  {
   "cell_type": "code",
   "execution_count": 7,
   "metadata": {},
   "outputs": [],
   "source": [
    "def ScoreVol(volatilité):\n",
    "    df_day[\"volatilité_open\"]=((df_day[\"open\"]-df_day[\"open\"].mean())**2)\n",
    "    df_day[\"volatilité_volume\"]=((df_day[\"volume\"]-df_day[\"volume\"].mean())**2)\n",
    "    volat=((df_day[\"volatilité_open\"].mean())**(1/2))*((df_day[\"volatilité_volume\"].mean())**(1/2))\n",
    "    score=1-((volatilité-volat)/volatilité)\n",
    "    return score"
   ]
  },
  {
   "cell_type": "code",
   "execution_count": 8,
   "metadata": {},
   "outputs": [
    {
     "name": "stdout",
     "output_type": "stream",
     "text": [
      "0.407826289991586\n"
     ]
    }
   ],
   "source": [
    "print(ScoreVol(volatilité))"
   ]
  }
 ],
 "metadata": {
  "kernelspec": {
   "display_name": "base",
   "language": "python",
   "name": "python3"
  },
  "language_info": {
   "codemirror_mode": {
    "name": "ipython",
    "version": 3
   },
   "file_extension": ".py",
   "mimetype": "text/x-python",
   "name": "python",
   "nbconvert_exporter": "python",
   "pygments_lexer": "ipython3",
   "version": "3.9.7"
  },
  "orig_nbformat": 4,
  "vscode": {
   "interpreter": {
    "hash": "66168a667a11ac16aca0d0d9742c8419f93457ff66115bf85239ea370d417636"
   }
  }
 },
 "nbformat": 4,
 "nbformat_minor": 2
}
